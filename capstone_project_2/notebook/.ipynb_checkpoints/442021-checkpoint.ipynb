{
 "cells": [
  {
   "cell_type": "code",
   "execution_count": 1,
   "metadata": {},
   "outputs": [],
   "source": [
    "#import necessary libraries\n",
    "import pandas as pd\n",
    "import numpy as np\n",
    "import matplotlib.pyplot as plt\n",
    "import seaborn as sns\n",
    "from sklearn.model_selection import train_test_split, cross_validate, GridSearchCV, learning_curve\n",
    "from sklearn.preprocessing import StandardScaler\n",
    "from sklearn.linear_model import LogisticRegression\n",
    "from sklearn.neighbors import KNeighborsClassifier\n",
    "from sklearn.svm import LinearSVC\n",
    "from sklearn.svm import SVC\n",
    "from sklearn.ensemble import RandomForestClassifier\n",
    "from sklearn.ensemble import ExtraTreesClassifier, GradientBoostingClassifier\n",
    "from sklearn.pipeline import Pipeline\n",
    "from sklearn.metrics import confusion_matrix\n",
    "from sklearn.metrics import plot_confusion_matrix\n",
    "from sklearn.metrics import accuracy_score\n",
    "from sklearn.metrics import plot_roc_curve\n",
    "from sklearn.metrics import f1_score\n",
    "from sklearn.model_selection import cross_val_score\n",
    "\n",
    "#to ensure clean outputs ignore the warning messages \n",
    "import warnings\n",
    "warnings.filterwarnings('ignore')"
   ]
  },
  {
   "cell_type": "code",
   "execution_count": 2,
   "metadata": {},
   "outputs": [
    {
     "data": {
      "text/html": [
       "<div>\n",
       "<style scoped>\n",
       "    .dataframe tbody tr th:only-of-type {\n",
       "        vertical-align: middle;\n",
       "    }\n",
       "\n",
       "    .dataframe tbody tr th {\n",
       "        vertical-align: top;\n",
       "    }\n",
       "\n",
       "    .dataframe thead th {\n",
       "        text-align: right;\n",
       "    }\n",
       "</style>\n",
       "<table border=\"1\" class=\"dataframe\">\n",
       "  <thead>\n",
       "    <tr style=\"text-align: right;\">\n",
       "      <th></th>\n",
       "      <th>sysBP</th>\n",
       "      <th>glucose</th>\n",
       "      <th>totChol</th>\n",
       "      <th>cigsPerDay</th>\n",
       "      <th>diaBP</th>\n",
       "      <th>prevalentHyp</th>\n",
       "      <th>age_group</th>\n",
       "      <th>diabetes</th>\n",
       "      <th>BPMeds</th>\n",
       "      <th>gender</th>\n",
       "      <th>TenYearCHD</th>\n",
       "    </tr>\n",
       "  </thead>\n",
       "  <tbody>\n",
       "    <tr>\n",
       "      <th>0</th>\n",
       "      <td>106.0</td>\n",
       "      <td>77.0</td>\n",
       "      <td>195.0</td>\n",
       "      <td>0.0</td>\n",
       "      <td>70.0</td>\n",
       "      <td>0</td>\n",
       "      <td>2</td>\n",
       "      <td>0</td>\n",
       "      <td>0.0</td>\n",
       "      <td>1</td>\n",
       "      <td>0</td>\n",
       "    </tr>\n",
       "    <tr>\n",
       "      <th>1</th>\n",
       "      <td>121.0</td>\n",
       "      <td>76.0</td>\n",
       "      <td>250.0</td>\n",
       "      <td>0.0</td>\n",
       "      <td>81.0</td>\n",
       "      <td>0</td>\n",
       "      <td>3</td>\n",
       "      <td>0</td>\n",
       "      <td>0.0</td>\n",
       "      <td>0</td>\n",
       "      <td>0</td>\n",
       "    </tr>\n",
       "    <tr>\n",
       "      <th>2</th>\n",
       "      <td>127.5</td>\n",
       "      <td>70.0</td>\n",
       "      <td>245.0</td>\n",
       "      <td>20.0</td>\n",
       "      <td>80.0</td>\n",
       "      <td>0</td>\n",
       "      <td>3</td>\n",
       "      <td>0</td>\n",
       "      <td>0.0</td>\n",
       "      <td>1</td>\n",
       "      <td>0</td>\n",
       "    </tr>\n",
       "    <tr>\n",
       "      <th>3</th>\n",
       "      <td>150.0</td>\n",
       "      <td>103.0</td>\n",
       "      <td>225.0</td>\n",
       "      <td>30.0</td>\n",
       "      <td>95.0</td>\n",
       "      <td>1</td>\n",
       "      <td>5</td>\n",
       "      <td>0</td>\n",
       "      <td>0.0</td>\n",
       "      <td>0</td>\n",
       "      <td>1</td>\n",
       "    </tr>\n",
       "    <tr>\n",
       "      <th>4</th>\n",
       "      <td>130.0</td>\n",
       "      <td>85.0</td>\n",
       "      <td>285.0</td>\n",
       "      <td>23.0</td>\n",
       "      <td>84.0</td>\n",
       "      <td>0</td>\n",
       "      <td>3</td>\n",
       "      <td>0</td>\n",
       "      <td>0.0</td>\n",
       "      <td>0</td>\n",
       "      <td>0</td>\n",
       "    </tr>\n",
       "  </tbody>\n",
       "</table>\n",
       "</div>"
      ],
      "text/plain": [
       "   sysBP  glucose  totChol  cigsPerDay  diaBP  prevalentHyp  age_group  \\\n",
       "0  106.0     77.0    195.0         0.0   70.0             0          2   \n",
       "1  121.0     76.0    250.0         0.0   81.0             0          3   \n",
       "2  127.5     70.0    245.0        20.0   80.0             0          3   \n",
       "3  150.0    103.0    225.0        30.0   95.0             1          5   \n",
       "4  130.0     85.0    285.0        23.0   84.0             0          3   \n",
       "\n",
       "   diabetes  BPMeds  gender  TenYearCHD  \n",
       "0         0     0.0       1           0  \n",
       "1         0     0.0       0           0  \n",
       "2         0     0.0       1           0  \n",
       "3         0     0.0       0           1  \n",
       "4         0     0.0       0           0  "
      ]
     },
     "execution_count": 2,
     "metadata": {},
     "output_type": "execute_result"
    }
   ],
   "source": [
    "# Read the datafile\n",
    "df = pd.read_csv('03_FE_CHD_data.csv')\n",
    "df.head()"
   ]
  },
  {
   "cell_type": "code",
   "execution_count": 3,
   "metadata": {},
   "outputs": [
    {
     "data": {
      "text/html": [
       "<div>\n",
       "<style scoped>\n",
       "    .dataframe tbody tr th:only-of-type {\n",
       "        vertical-align: middle;\n",
       "    }\n",
       "\n",
       "    .dataframe tbody tr th {\n",
       "        vertical-align: top;\n",
       "    }\n",
       "\n",
       "    .dataframe thead th {\n",
       "        text-align: right;\n",
       "    }\n",
       "</style>\n",
       "<table border=\"1\" class=\"dataframe\">\n",
       "  <thead>\n",
       "    <tr style=\"text-align: right;\">\n",
       "      <th></th>\n",
       "      <th>count</th>\n",
       "      <th>mean</th>\n",
       "      <th>std</th>\n",
       "      <th>min</th>\n",
       "      <th>25%</th>\n",
       "      <th>50%</th>\n",
       "      <th>75%</th>\n",
       "      <th>max</th>\n",
       "    </tr>\n",
       "  </thead>\n",
       "  <tbody>\n",
       "    <tr>\n",
       "      <th>sysBP</th>\n",
       "      <td>3658.0</td>\n",
       "      <td>132.370558</td>\n",
       "      <td>22.086866</td>\n",
       "      <td>83.5</td>\n",
       "      <td>117.0</td>\n",
       "      <td>128.0</td>\n",
       "      <td>143.875</td>\n",
       "      <td>295.0</td>\n",
       "    </tr>\n",
       "    <tr>\n",
       "      <th>glucose</th>\n",
       "      <td>3658.0</td>\n",
       "      <td>81.852925</td>\n",
       "      <td>23.904164</td>\n",
       "      <td>40.0</td>\n",
       "      <td>71.0</td>\n",
       "      <td>78.0</td>\n",
       "      <td>87.000</td>\n",
       "      <td>394.0</td>\n",
       "    </tr>\n",
       "    <tr>\n",
       "      <th>totChol</th>\n",
       "      <td>3658.0</td>\n",
       "      <td>236.847731</td>\n",
       "      <td>44.097681</td>\n",
       "      <td>113.0</td>\n",
       "      <td>206.0</td>\n",
       "      <td>234.0</td>\n",
       "      <td>263.000</td>\n",
       "      <td>600.0</td>\n",
       "    </tr>\n",
       "    <tr>\n",
       "      <th>cigsPerDay</th>\n",
       "      <td>3658.0</td>\n",
       "      <td>9.025424</td>\n",
       "      <td>11.921590</td>\n",
       "      <td>0.0</td>\n",
       "      <td>0.0</td>\n",
       "      <td>0.0</td>\n",
       "      <td>20.000</td>\n",
       "      <td>70.0</td>\n",
       "    </tr>\n",
       "    <tr>\n",
       "      <th>diaBP</th>\n",
       "      <td>3658.0</td>\n",
       "      <td>82.917031</td>\n",
       "      <td>11.974258</td>\n",
       "      <td>48.0</td>\n",
       "      <td>75.0</td>\n",
       "      <td>82.0</td>\n",
       "      <td>90.000</td>\n",
       "      <td>142.5</td>\n",
       "    </tr>\n",
       "    <tr>\n",
       "      <th>prevalentHyp</th>\n",
       "      <td>3658.0</td>\n",
       "      <td>0.311646</td>\n",
       "      <td>0.463229</td>\n",
       "      <td>0.0</td>\n",
       "      <td>0.0</td>\n",
       "      <td>0.0</td>\n",
       "      <td>1.000</td>\n",
       "      <td>1.0</td>\n",
       "    </tr>\n",
       "    <tr>\n",
       "      <th>age_group</th>\n",
       "      <td>3658.0</td>\n",
       "      <td>3.400765</td>\n",
       "      <td>0.931108</td>\n",
       "      <td>2.0</td>\n",
       "      <td>3.0</td>\n",
       "      <td>3.0</td>\n",
       "      <td>4.000</td>\n",
       "      <td>5.0</td>\n",
       "    </tr>\n",
       "    <tr>\n",
       "      <th>diabetes</th>\n",
       "      <td>3658.0</td>\n",
       "      <td>0.027064</td>\n",
       "      <td>0.162292</td>\n",
       "      <td>0.0</td>\n",
       "      <td>0.0</td>\n",
       "      <td>0.0</td>\n",
       "      <td>0.000</td>\n",
       "      <td>1.0</td>\n",
       "    </tr>\n",
       "    <tr>\n",
       "      <th>BPMeds</th>\n",
       "      <td>3658.0</td>\n",
       "      <td>0.030344</td>\n",
       "      <td>0.171557</td>\n",
       "      <td>0.0</td>\n",
       "      <td>0.0</td>\n",
       "      <td>0.0</td>\n",
       "      <td>0.000</td>\n",
       "      <td>1.0</td>\n",
       "    </tr>\n",
       "    <tr>\n",
       "      <th>gender</th>\n",
       "      <td>3658.0</td>\n",
       "      <td>0.443685</td>\n",
       "      <td>0.496886</td>\n",
       "      <td>0.0</td>\n",
       "      <td>0.0</td>\n",
       "      <td>0.0</td>\n",
       "      <td>1.000</td>\n",
       "      <td>1.0</td>\n",
       "    </tr>\n",
       "    <tr>\n",
       "      <th>TenYearCHD</th>\n",
       "      <td>3658.0</td>\n",
       "      <td>0.152269</td>\n",
       "      <td>0.359331</td>\n",
       "      <td>0.0</td>\n",
       "      <td>0.0</td>\n",
       "      <td>0.0</td>\n",
       "      <td>0.000</td>\n",
       "      <td>1.0</td>\n",
       "    </tr>\n",
       "  </tbody>\n",
       "</table>\n",
       "</div>"
      ],
      "text/plain": [
       "               count        mean        std    min    25%    50%      75%  \\\n",
       "sysBP         3658.0  132.370558  22.086866   83.5  117.0  128.0  143.875   \n",
       "glucose       3658.0   81.852925  23.904164   40.0   71.0   78.0   87.000   \n",
       "totChol       3658.0  236.847731  44.097681  113.0  206.0  234.0  263.000   \n",
       "cigsPerDay    3658.0    9.025424  11.921590    0.0    0.0    0.0   20.000   \n",
       "diaBP         3658.0   82.917031  11.974258   48.0   75.0   82.0   90.000   \n",
       "prevalentHyp  3658.0    0.311646   0.463229    0.0    0.0    0.0    1.000   \n",
       "age_group     3658.0    3.400765   0.931108    2.0    3.0    3.0    4.000   \n",
       "diabetes      3658.0    0.027064   0.162292    0.0    0.0    0.0    0.000   \n",
       "BPMeds        3658.0    0.030344   0.171557    0.0    0.0    0.0    0.000   \n",
       "gender        3658.0    0.443685   0.496886    0.0    0.0    0.0    1.000   \n",
       "TenYearCHD    3658.0    0.152269   0.359331    0.0    0.0    0.0    0.000   \n",
       "\n",
       "                max  \n",
       "sysBP         295.0  \n",
       "glucose       394.0  \n",
       "totChol       600.0  \n",
       "cigsPerDay     70.0  \n",
       "diaBP         142.5  \n",
       "prevalentHyp    1.0  \n",
       "age_group       5.0  \n",
       "diabetes        1.0  \n",
       "BPMeds          1.0  \n",
       "gender          1.0  \n",
       "TenYearCHD      1.0  "
      ]
     },
     "execution_count": 3,
     "metadata": {},
     "output_type": "execute_result"
    }
   ],
   "source": [
    "df.describe().T"
   ]
  },
  {
   "cell_type": "code",
   "execution_count": 4,
   "metadata": {},
   "outputs": [],
   "source": [
    "X = df.drop(columns=['TenYearCHD', 'diabetes', 'diaBP'])\n",
    "y = df.TenYearCHD"
   ]
  },
  {
   "cell_type": "code",
   "execution_count": 5,
   "metadata": {},
   "outputs": [],
   "source": [
    "X_train, X_test, y_train, y_test = train_test_split(X, y, test_size=0.20, random_state=99)"
   ]
  },
  {
   "cell_type": "code",
   "execution_count": 6,
   "metadata": {},
   "outputs": [],
   "source": [
    "#Feature scaling\n",
    "scaler = StandardScaler()\n",
    "X_train = scaler.fit_transform(X_train)\n",
    "X_test = scaler.transform(X_test)"
   ]
  },
  {
   "cell_type": "markdown",
   "metadata": {},
   "source": [
    "## Evaluation of different classifiers"
   ]
  },
  {
   "cell_type": "markdown",
   "metadata": {},
   "source": [
    "### K-Nearest neighbor (KNN)"
   ]
  },
  {
   "cell_type": "code",
   "execution_count": 7,
   "metadata": {},
   "outputs": [
    {
     "data": {
      "text/plain": [
       "GridSearchCV(cv=5, estimator=KNeighborsClassifier(), n_jobs=4,\n",
       "             param_grid={'n_neighbors': array([ 1,  2,  3,  4,  5,  6,  7,  8,  9, 10, 11, 12, 13, 14, 15, 16, 17,\n",
       "       18, 19, 20, 21, 22, 23, 24, 25, 26, 27, 28, 29, 30, 31, 32, 33, 34,\n",
       "       35, 36, 37, 38, 39, 40, 41, 42, 43, 44, 45, 46, 47, 48, 49])},\n",
       "             scoring='roc_auc')"
      ]
     },
     "execution_count": 7,
     "metadata": {},
     "output_type": "execute_result"
    }
   ],
   "source": [
    "#run KNN model\n",
    "param_grid = {'n_neighbors':np.arange(1,50)}\n",
    "knn = KNeighborsClassifier()\n",
    "knn_cv= GridSearchCV(knn,param_grid,cv=5, n_jobs =4, scoring = 'roc_auc')\n",
    "knn_cv.fit(X_train,y_train)"
   ]
  },
  {
   "cell_type": "code",
   "execution_count": 8,
   "metadata": {},
   "outputs": [
    {
     "name": "stdout",
     "output_type": "stream",
     "text": [
      "Best Parameters: {'n_neighbors': 48}\n"
     ]
    }
   ],
   "source": [
    "print(\"Best Parameters: \" + str(knn_cv.best_params_))"
   ]
  },
  {
   "cell_type": "code",
   "execution_count": 9,
   "metadata": {},
   "outputs": [
    {
     "name": "stdout",
     "output_type": "stream",
     "text": [
      "0.7315154493758051\n"
     ]
    }
   ],
   "source": [
    "#compute roc_auc for the best hyperparameter\n",
    "knn = KNeighborsClassifier(n_neighbors=48)\n",
    "knn.fit(X_train, y_train)\n",
    "cv_scores_test= cross_val_score(knn,X_test,y_test,cv=5,scoring='roc_auc')\n",
    "cv_scores_knn_test= cv_scores_test.mean()\n",
    "print(cv_scores_knn_test)"
   ]
  },
  {
   "cell_type": "markdown",
   "metadata": {},
   "source": [
    "### Logistic regression"
   ]
  },
  {
   "cell_type": "code",
   "execution_count": 10,
   "metadata": {},
   "outputs": [
    {
     "data": {
      "text/plain": [
       "GridSearchCV(cv=5, estimator=LogisticRegression(), n_jobs=4,\n",
       "             param_grid={'C': [0.0001, 0.001, 0.01, 0.1, 1, 5, 10, 100],\n",
       "                         'penalty': ['l1', 'l2'], 'solver': ['liblinear']},\n",
       "             scoring='roc_auc')"
      ]
     },
     "execution_count": 10,
     "metadata": {},
     "output_type": "execute_result"
    }
   ],
   "source": [
    "param_grid = {'penalty': ['l1', 'l2'], 'C': [0.0001, 0.001,0.01,0.1,1,5,10,100], 'solver': ['liblinear']}\n",
    "logreg = LogisticRegression()\n",
    "logreg_cv= GridSearchCV(estimator=logreg, param_grid=param_grid, cv=5, n_jobs =4, scoring = 'roc_auc')\n",
    "logreg_cv.fit(X_train,y_train)"
   ]
  },
  {
   "cell_type": "code",
   "execution_count": 11,
   "metadata": {},
   "outputs": [
    {
     "name": "stdout",
     "output_type": "stream",
     "text": [
      "Best Parameters: {'C': 100, 'penalty': 'l1', 'solver': 'liblinear'}\n"
     ]
    }
   ],
   "source": [
    "print(\"Best Parameters: \" + str(logreg_cv.best_params_))"
   ]
  },
  {
   "cell_type": "code",
   "execution_count": 12,
   "metadata": {},
   "outputs": [
    {
     "name": "stdout",
     "output_type": "stream",
     "text": [
      "0.7614870718379315\n"
     ]
    }
   ],
   "source": [
    "#compute roc_auc for train and test set\n",
    "logreg = LogisticRegression(penalty = 'l2', C=100, solver='liblinear')\n",
    "logreg.fit(X_train,y_train)\n",
    "cv_scores_test= cross_val_score(logreg,X_test,y_test,cv=5,scoring='roc_auc')\n",
    "cv_scores_logreg_test= cv_scores_test.mean()\n",
    "print(cv_scores_logreg_test)"
   ]
  },
  {
   "cell_type": "markdown",
   "metadata": {},
   "source": [
    "### Random forest"
   ]
  },
  {
   "cell_type": "code",
   "execution_count": null,
   "metadata": {},
   "outputs": [],
   "source": [
    "param_grid = {\n",
    "    'criterion': ['gini', 'entropy'],\n",
    "    'max_depth': [5,6,7,8,9,10,15],\n",
    "    'n_estimators': [10, 50, 100, 200, 300]\n",
    "}\n",
    "rf = RandomForestClassifier()\n",
    "rf_cv= GridSearchCV(estimator=rf, param_grid=param_grid, cv=5, n_jobs =4, scoring = 'roc_auc')\n",
    "rf_cv.fit(X_train,y_train)"
   ]
  },
  {
   "cell_type": "code",
   "execution_count": null,
   "metadata": {},
   "outputs": [],
   "source": [
    "print(\"Best Parameters: \" + str(rf_cv.best_params_))"
   ]
  },
  {
   "cell_type": "code",
   "execution_count": 13,
   "metadata": {},
   "outputs": [
    {
     "name": "stdout",
     "output_type": "stream",
     "text": [
      "0.746094340041761\n"
     ]
    }
   ],
   "source": [
    "#compute roc_auc for train and test set\n",
    "rf = RandomForestClassifier(criterion = 'gini', max_depth=5, n_estimators=100)\n",
    "rf.fit(X_train,y_train)\n",
    "cv_scores_test= cross_val_score(rf,X_test,y_test,cv=5,scoring='roc_auc')\n",
    "cv_scores_rf_test= cv_scores_test.mean()\n",
    "print(cv_scores_rf_test)"
   ]
  },
  {
   "cell_type": "markdown",
   "metadata": {},
   "source": [
    "### Gradient Boosting"
   ]
  },
  {
   "cell_type": "code",
   "execution_count": null,
   "metadata": {},
   "outputs": [],
   "source": [
    "param_grid = {'learning_rate':[0.15,0.1,0.05,0.01,0.005,0.001], 'n_estimators':[100,250,500,750,1000],\n",
    "              'max_depth': [4, 8, 12, 16, 20], 'min_samples_leaf': [100,150],'max_features': [0.3, 0.1]}\n",
    "GB = GradientBoostingClassifier(max_depth=4, min_samples_split=2, min_samples_leaf=1, subsample=1,max_features='sqrt', random_state=10)\n",
    "GB_cv= GridSearchCV(estimator=GB, param_grid=param_grid, cv=5, n_jobs =4, scoring = 'roc_auc')\n",
    "GB_cv.fit(X_train,y_train)"
   ]
  },
  {
   "cell_type": "code",
   "execution_count": null,
   "metadata": {},
   "outputs": [],
   "source": [
    "print(\"Best Parameters: \" + str(GB_cv.best_params_))"
   ]
  },
  {
   "cell_type": "code",
   "execution_count": 14,
   "metadata": {},
   "outputs": [
    {
     "name": "stdout",
     "output_type": "stream",
     "text": [
      "0.7482792993913545\n"
     ]
    }
   ],
   "source": [
    "#compute roc_auc for train and test set\n",
    "GB = GradientBoostingClassifier(learning_rate=0.005, max_depth= 4, max_features= 0.3, min_samples_leaf= 100, n_estimators= 500)\n",
    "GB.fit(X_train,y_train)\n",
    "cv_scores_test= cross_val_score(GB,X_test,y_test,cv=5,scoring='roc_auc')\n",
    "cv_scores_gbc_test= cv_scores_test.mean()\n",
    "print(cv_scores_gbc_test)"
   ]
  },
  {
   "cell_type": "markdown",
   "metadata": {},
   "source": [
    "### Support Vector Machine (SVM)"
   ]
  },
  {
   "cell_type": "code",
   "execution_count": null,
   "metadata": {},
   "outputs": [],
   "source": [
    "param_grid = [\n",
    "  {'C': [1, 10, 100, 1000], 'kernel': ['linear']},\n",
    "  {'C': [1, 10, 100, 1000], 'gamma': [0.001, 0.0001], 'kernel': ['rbf']}\n",
    " ]\n",
    "svm = SVC()\n",
    "svm_cv= GridSearchCV(estimator=svm, param_grid=param_grid, cv=5, n_jobs =4, scoring = 'roc_auc')\n",
    "svm_cv.fit(X_train,y_train)"
   ]
  },
  {
   "cell_type": "code",
   "execution_count": null,
   "metadata": {},
   "outputs": [],
   "source": [
    "print(\"Best Parameters: \" + str(svm_cv.best_params_))"
   ]
  },
  {
   "cell_type": "code",
   "execution_count": 15,
   "metadata": {},
   "outputs": [
    {
     "name": "stdout",
     "output_type": "stream",
     "text": [
      "0.7337576080678839\n"
     ]
    }
   ],
   "source": [
    "#compute roc_auc for train and test set\n",
    "svm = SVC(C=100, kernel = 'linear', probability=True)\n",
    "svm.fit(X_train,y_train)\n",
    "cv_scores_test= cross_val_score(svm,X_test,y_test,cv=5,scoring='roc_auc')\n",
    "cv_scores_svm_test= cv_scores_test.mean()\n",
    "print(cv_scores_svm_test)"
   ]
  },
  {
   "cell_type": "markdown",
   "metadata": {},
   "source": [
    "### Naive Bayes"
   ]
  },
  {
   "cell_type": "code",
   "execution_count": 16,
   "metadata": {},
   "outputs": [
    {
     "name": "stdout",
     "output_type": "stream",
     "text": [
      "0.7489212648274024\n"
     ]
    }
   ],
   "source": [
    "from sklearn.naive_bayes import GaussianNB\n",
    "GB = GaussianNB()\n",
    "GB.fit(X_train,y_train)\n",
    "cv_scores_test= cross_val_score(GB,X_test,y_test,cv=5,scoring='roc_auc')\n",
    "cv_scores_nb_test= cv_scores_test.mean()\n",
    "print(cv_scores_nb_test)"
   ]
  },
  {
   "cell_type": "markdown",
   "metadata": {},
   "source": [
    "## Selection of the best model"
   ]
  },
  {
   "cell_type": "code",
   "execution_count": 17,
   "metadata": {},
   "outputs": [
    {
     "data": {
      "text/html": [
       "<div>\n",
       "<style scoped>\n",
       "    .dataframe tbody tr th:only-of-type {\n",
       "        vertical-align: middle;\n",
       "    }\n",
       "\n",
       "    .dataframe tbody tr th {\n",
       "        vertical-align: top;\n",
       "    }\n",
       "\n",
       "    .dataframe thead th {\n",
       "        text-align: right;\n",
       "    }\n",
       "</style>\n",
       "<table border=\"1\" class=\"dataframe\">\n",
       "  <thead>\n",
       "    <tr style=\"text-align: right;\">\n",
       "      <th></th>\n",
       "      <th>Algorithm</th>\n",
       "      <th>ROC-AUC score</th>\n",
       "    </tr>\n",
       "  </thead>\n",
       "  <tbody>\n",
       "    <tr>\n",
       "      <th>0</th>\n",
       "      <td>KNN</td>\n",
       "      <td>0.731515</td>\n",
       "    </tr>\n",
       "    <tr>\n",
       "      <th>1</th>\n",
       "      <td>Logistic Regression</td>\n",
       "      <td>0.761487</td>\n",
       "    </tr>\n",
       "    <tr>\n",
       "      <th>2</th>\n",
       "      <td>Random Forest</td>\n",
       "      <td>0.746094</td>\n",
       "    </tr>\n",
       "    <tr>\n",
       "      <th>3</th>\n",
       "      <td>Gradient Boost</td>\n",
       "      <td>0.748279</td>\n",
       "    </tr>\n",
       "    <tr>\n",
       "      <th>4</th>\n",
       "      <td>SVM</td>\n",
       "      <td>0.733758</td>\n",
       "    </tr>\n",
       "    <tr>\n",
       "      <th>5</th>\n",
       "      <td>Naive Bayes</td>\n",
       "      <td>0.748921</td>\n",
       "    </tr>\n",
       "  </tbody>\n",
       "</table>\n",
       "</div>"
      ],
      "text/plain": [
       "             Algorithm  ROC-AUC score\n",
       "0                  KNN       0.731515\n",
       "1  Logistic Regression       0.761487\n",
       "2        Random Forest       0.746094\n",
       "3       Gradient Boost       0.748279\n",
       "4                  SVM       0.733758\n",
       "5          Naive Bayes       0.748921"
      ]
     },
     "execution_count": 17,
     "metadata": {},
     "output_type": "execute_result"
    }
   ],
   "source": [
    "myLabels = ['KNN','Logistic Regression','Random Forest','Gradient Boost','SVM', 'Naive Bayes']\n",
    "score_test= [cv_scores_knn_test, cv_scores_logreg_test, cv_scores_rf_test, cv_scores_gbc_test, cv_scores_svm_test, cv_scores_nb_test]\n",
    "\n",
    "score_tab = pd.DataFrame(list(zip(myLabels, score_test)), \n",
    "               columns =['Algorithm', 'ROC-AUC score']) \n",
    "score_tab"
   ]
  },
  {
   "cell_type": "code",
   "execution_count": 18,
   "metadata": {
    "scrolled": true
   },
   "outputs": [
    {
     "data": {
      "image/png": "[encoded data removed]",
      "text/plain": [
       "<Figure size 576x360 with 1 Axes>"
      ]
     },
     "metadata": {
      "needs_background": "light"
     },
     "output_type": "display_data"
    }
   ],
   "source": [
    "roc = pd.melt(score_tab, id_vars=['Algorithm'], value_vars=['ROC-AUC score'])\n",
    "\n",
    "plt.figure(figsize=(8,5))\n",
    "sns.barplot(x='Algorithm', y='value', hue='variable', data=roc)\n",
    "plt.legend(bbox_to_anchor=(1.05, 1), loc=2, borderaxespad=0.)\n",
    "plt.ylabel('Score')\n",
    "plt.xticks(rotation=90);"
   ]
  },
  {
   "cell_type": "markdown",
   "metadata": {},
   "source": [
    "When I evaluated different algorithm, I found that __logistic regression__ performed best based on roc_auc score with roc_auc score of 0.76."
   ]
  },
  {
   "cell_type": "code",
   "execution_count": 24,
   "metadata": {},
   "outputs": [
    {
     "data": {
      "text/plain": [
       "array([[609,   3],\n",
       "       [111,   9]], dtype=int64)"
      ]
     },
     "execution_count": 24,
     "metadata": {},
     "output_type": "execute_result"
    }
   ],
   "source": [
    "#fitting the best model\n",
    "logreg = LogisticRegression(penalty = 'l2', C=100, solver='liblinear')\n",
    "logreg.fit(X_train,y_train)\n",
    "y_pred = logreg.predict(X_test)\n",
    "confusion_matrix(y_test, y_pred)"
   ]
  },
  {
   "cell_type": "code",
   "execution_count": 26,
   "metadata": {},
   "outputs": [
    {
     "data": {
      "text/plain": [
       "0.7702750544662309"
      ]
     },
     "execution_count": 26,
     "metadata": {},
     "output_type": "execute_result"
    }
   ],
   "source": [
    "#get the roc_auc_score\n",
    "from sklearn.metrics import roc_auc_score\n",
    "y_pred_prob=logreg.predict_proba(X_test)[:,1]\n",
    "roc_auc_score(y_test, y_pred_prob)"
   ]
  },
  {
   "cell_type": "code",
   "execution_count": 29,
   "metadata": {},
   "outputs": [
    {
     "data": {
      "image/png": "[encoded data removed]",
      "text/plain": [
       "<Figure size 432x288 with 1 Axes>"
      ]
     },
     "metadata": {
      "needs_background": "light"
     },
     "output_type": "display_data"
    }
   ],
   "source": [
    "#plot roc curve\n",
    "from sklearn.metrics import roc_curve\n",
    "fpr,tpr,thresholds=roc_curve(y_test, y_pred_prob)\n",
    "plt.plot([0,1],[0,1], 'k--')\n",
    "plt.plot(fpr,tpr,label='logreg')\n",
    "plt.xlabel('FPR')\n",
    "plt.ylabel('TPR')\n",
    "plt.title('Logistic regression ROC curve')\n",
    "plt.show()"
   ]
  },
  {
   "cell_type": "markdown",
   "metadata": {},
   "source": [
    "There is an issue with this prediction. The above model has done pretty well in predicting the true negatives. However, the model does miserably poor jobs in predicting the true postives. This is an issue of imbalanced dataset. Our data is highly imbalanced and in such instance, default decision threshold generally performs poorly. Therefore, in the next step, I will try to find the better threshold."
   ]
  },
  {
   "cell_type": "markdown",
   "metadata": {},
   "source": [
    "### Tuning the threshold"
   ]
  },
  {
   "cell_type": "code",
   "execution_count": 60,
   "metadata": {},
   "outputs": [],
   "source": [
    "# apply threshold to positive probabilities to create labels\n",
    "def to_labels(pos_probs, threshold):\n",
    "    return (pos_probs >= threshold).astype('int')"
   ]
  },
  {
   "cell_type": "code",
   "execution_count": 62,
   "metadata": {},
   "outputs": [
    {
     "name": "stdout",
     "output_type": "stream",
     "text": [
      "optimum threshold 0.233\n",
      "[[529  83]\n",
      " [ 60  60]]\n"
     ]
    }
   ],
   "source": [
    "#identify the optimum threshold and get confusion matrix\n",
    "probs = y_pred_prob.tolist()\n",
    "thresholds = np.arange(0, 1, 0.001)\n",
    "scores = [f1_score(y_test, to_labels(probs, t)) for t in thresholds]\n",
    "max_score = max(scores)\n",
    "max_index =  scores.index(max_score)\n",
    "y_pred = (logreg.predict_proba(X_test)[:,1] >= thresholds[max_index]).astype('int')\n",
    "print('optimum threshold', thresholds[max_index])\n",
    "print(confusion_matrix(y_test, y_pred))"
   ]
  },
  {
   "cell_type": "markdown",
   "metadata": {},
   "source": [
    "__CASE 1:__ If we need to predict the risk of CHD for the people with high cholestrol, diabetes, hypertension, obesity, family members with CHD, old people, we could use tuned thresholds with higher sensitivity."
   ]
  },
  {
   "cell_type": "markdown",
   "metadata": {},
   "source": [
    "__CASE 2__ If we need to predict the risk of CHD for people with that does not have symptoms as mentioned in case 1, we could use the default threshold.\n",
    "       "
   ]
  },
  {
   "cell_type": "markdown",
   "metadata": {},
   "source": [
    "### Plot demonstrating F1 score, precision and recall at different thresholds"
   ]
  },
  {
   "cell_type": "code",
   "execution_count": 65,
   "metadata": {},
   "outputs": [],
   "source": [
    "def adjust_pred_prob(y_pred_prob, new_threshold):\n",
    "    \"\"\"Adjust predicted probabilities to match new threshold value\"\"\"\n",
    "    \n",
    "    return [1 if y >= new_threshold else 0 for y in y_pred_prob]"
   ]
  },
  {
   "cell_type": "code",
   "execution_count": null,
   "metadata": {},
   "outputs": [],
   "source": [
    "pred_prob_lr = logreg.predict_proba(X_test)[:,1]"
   ]
  },
  {
   "cell_type": "code",
   "execution_count": 63,
   "metadata": {},
   "outputs": [],
   "source": [
    "\n",
    "from sklearn.metrics import precision_recall_curve\n",
    "# Calculate Precision and Recall Curve\n",
    "precision, recall, thresholds = precision_recall_curve(y_test, y_pred_prob)\n",
    "thresholds = np.append(thresholds, 1)"
   ]
  },
  {
   "cell_type": "code",
   "execution_count": 66,
   "metadata": {},
   "outputs": [],
   "source": [
    "# Calculate F1 Score Curve\n",
    "f1_points = []\n",
    "\n",
    "for t in thresholds:\n",
    "        adjusted_y_pred = adjust_pred_prob(y_pred_prob, new_threshold=t)\n",
    "        new_f1 = f1_score(y_test, adjusted_y_pred)\n",
    "        f1_points.append(new_f1)"
   ]
  },
  {
   "cell_type": "code",
   "execution_count": 68,
   "metadata": {
    "scrolled": true
   },
   "outputs": [
    {
     "data": {
      "image/png": "[encoded data removed]",
      "text/plain": [
       "<Figure size 720x360 with 1 Axes>"
      ]
     },
     "metadata": {
      "needs_background": "light"
     },
     "output_type": "display_data"
    }
   ],
   "source": [
    "plt.figure(figsize=(10,5))\n",
    "plt.plot(thresholds, precision, color='blue')\n",
    "plt.plot(thresholds, recall, color='red')\n",
    "plt.plot(thresholds, f1_points, color='green')\n",
    "plt.title('Precision Recall Curve - GradientBoosting')\n",
    "plt.legend(('Precision', 'Recall', 'F1-Score'))\n",
    "plt.xlabel('Threshold')\n",
    "plt.ylabel('Proportion')\n",
    "plt.axvline(x=.233, color='black', linestyle='--')\n",
    "plt.text(.208,.50,'High Risk Threshold',rotation=90)\n",
    "plt.axvline(x=.50, color='black', linestyle='--')\n",
    "plt.text(.475,.50,'Default Threshold',rotation=90)\n",
    "plt.show()"
   ]
  },
  {
   "cell_type": "markdown",
   "metadata": {},
   "source": [
    "## Undersampling"
   ]
  },
  {
   "cell_type": "code",
   "execution_count": 77,
   "metadata": {},
   "outputs": [],
   "source": [
    "undersampled_df = pd.concat([pd.DataFrame(X_train).reset_index(drop=True), pd.DataFrame(y_train).reset_index(drop=True)], axis=1)"
   ]
  },
  {
   "cell_type": "code",
   "execution_count": 78,
   "metadata": {},
   "outputs": [
    {
     "data": {
      "text/plain": [
       "0    2489\n",
       "1     437\n",
       "Name: TenYearCHD, dtype: int64"
      ]
     },
     "execution_count": 78,
     "metadata": {},
     "output_type": "execute_result"
    }
   ],
   "source": [
    "undersampled_df.TenYearCHD.value_counts()"
   ]
  },
  {
   "cell_type": "code",
   "execution_count": 79,
   "metadata": {},
   "outputs": [],
   "source": [
    "# Shuffle df\n",
    "shuffled_df = undersampled_df.sample(frac=1,random_state=4)\n",
    "# Put all the CHD in a separate dataset.\n",
    "CHD_df = undersampled_df.loc[undersampled_df['TenYearCHD'] == 1]"
   ]
  },
  {
   "cell_type": "code",
   "execution_count": 80,
   "metadata": {},
   "outputs": [
    {
     "data": {
      "text/plain": [
       "0    437\n",
       "1    437\n",
       "Name: TenYearCHD, dtype: int64"
      ]
     },
     "execution_count": 80,
     "metadata": {},
     "output_type": "execute_result"
    }
   ],
   "source": [
    "#Randomly select 437 observations from the non-fraud (majority class)\n",
    "non_CHD_df = shuffled_df.loc[shuffled_df['TenYearCHD'] == 0].sample(n=437,random_state=42)\n",
    "\n",
    "# Concatenate both dataframes again\n",
    "resampled_df = pd.concat([CHD_df, non_CHD_df])\n",
    "\n",
    "# check new class counts\n",
    "resampled_df.TenYearCHD.value_counts()"
   ]
  },
  {
   "cell_type": "code",
   "execution_count": 81,
   "metadata": {},
   "outputs": [],
   "source": [
    "X = resampled_df.drop(columns=['TenYearCHD'])\n",
    "y = resampled_df.TenYearCHD"
   ]
  },
  {
   "cell_type": "code",
   "execution_count": 88,
   "metadata": {},
   "outputs": [],
   "source": [
    "from sklearn.ensemble import ExtraTreesClassifier, GradientBoostingClassifier\n",
    "from sklearn.model_selection import cross_validate\n",
    "from sklearn.metrics import classification_report\n",
    "models = [\n",
    "          ('KNN', KNeighborsClassifier()),      \n",
    "          ('Logistic Regression', LogisticRegression()), \n",
    "          ('Random Forest', RandomForestClassifier()),\n",
    "          ('Gradient Boost', GradientBoostingClassifier()),\n",
    "          ('SVM', SVC()),\n",
    "          ('Naive Bayes', GaussianNB())\n",
    "        ]\n",
    "names=[]\n",
    "roc_auc_score = []\n",
    "f1_score=[]\n",
    "precision_score=[]\n",
    "recall_score=[]\n",
    "for name, model in models:\n",
    "        roc_auc = cross_val_score(model, X, y, cv=5, scoring='roc_auc')\n",
    "        f1 = cross_val_score(model, X, y, cv=5, scoring='f1')\n",
    "        precision = cross_val_score(model, X, y, cv=5, scoring='precision')\n",
    "        recall = cross_val_score(model, X, y, cv=5, scoring='recall')\n",
    "        clf = model.fit(X, y)\n",
    "        y_pred = clf.predict(X_test)\n",
    "        names.append(name)\n",
    "        roc_auc_score.append(roc_auc.mean())\n",
    "        f1_score.append(f1.mean())\n",
    "        precision_score.append(precision.mean())\n",
    "        recall_score.append(recall.mean())\n",
    "        #print(classification_report(y_test, y_pred, target_names=target_names))"
   ]
  },
  {
   "cell_type": "code",
   "execution_count": 89,
   "metadata": {},
   "outputs": [
    {
     "data": {
      "text/html": [
       "<div>\n",
       "<style scoped>\n",
       "    .dataframe tbody tr th:only-of-type {\n",
       "        vertical-align: middle;\n",
       "    }\n",
       "\n",
       "    .dataframe tbody tr th {\n",
       "        vertical-align: top;\n",
       "    }\n",
       "\n",
       "    .dataframe thead th {\n",
       "        text-align: right;\n",
       "    }\n",
       "</style>\n",
       "<table border=\"1\" class=\"dataframe\">\n",
       "  <thead>\n",
       "    <tr style=\"text-align: right;\">\n",
       "      <th></th>\n",
       "      <th>Algorithm</th>\n",
       "      <th>Roc_auc_score</th>\n",
       "      <th>F1_score</th>\n",
       "      <th>Precision</th>\n",
       "      <th>Recall</th>\n",
       "    </tr>\n",
       "  </thead>\n",
       "  <tbody>\n",
       "    <tr>\n",
       "      <th>0</th>\n",
       "      <td>KNN</td>\n",
       "      <td>0.669111</td>\n",
       "      <td>0.638081</td>\n",
       "      <td>0.673648</td>\n",
       "      <td>0.608516</td>\n",
       "    </tr>\n",
       "    <tr>\n",
       "      <th>1</th>\n",
       "      <td>Logistic Regression</td>\n",
       "      <td>0.713675</td>\n",
       "      <td>0.672697</td>\n",
       "      <td>0.674397</td>\n",
       "      <td>0.674948</td>\n",
       "    </tr>\n",
       "    <tr>\n",
       "      <th>2</th>\n",
       "      <td>Random Forest</td>\n",
       "      <td>0.665248</td>\n",
       "      <td>0.640021</td>\n",
       "      <td>0.634063</td>\n",
       "      <td>0.645219</td>\n",
       "    </tr>\n",
       "    <tr>\n",
       "      <th>3</th>\n",
       "      <td>Gradient Boost</td>\n",
       "      <td>0.660655</td>\n",
       "      <td>0.634536</td>\n",
       "      <td>0.618351</td>\n",
       "      <td>0.65431</td>\n",
       "    </tr>\n",
       "    <tr>\n",
       "      <th>4</th>\n",
       "      <td>SVM</td>\n",
       "      <td>0.710734</td>\n",
       "      <td>0.68113</td>\n",
       "      <td>0.670891</td>\n",
       "      <td>0.697806</td>\n",
       "    </tr>\n",
       "    <tr>\n",
       "      <th>5</th>\n",
       "      <td>Naive Bayes</td>\n",
       "      <td>0.705254</td>\n",
       "      <td>0.486919</td>\n",
       "      <td>0.711533</td>\n",
       "      <td>0.372989</td>\n",
       "    </tr>\n",
       "  </tbody>\n",
       "</table>\n",
       "</div>"
      ],
      "text/plain": [
       "             Algorithm Roc_auc_score  F1_score Precision    Recall\n",
       "0                  KNN      0.669111  0.638081  0.673648  0.608516\n",
       "1  Logistic Regression      0.713675  0.672697  0.674397  0.674948\n",
       "2        Random Forest      0.665248  0.640021  0.634063  0.645219\n",
       "3       Gradient Boost      0.660655  0.634536  0.618351   0.65431\n",
       "4                  SVM      0.710734   0.68113  0.670891  0.697806\n",
       "5          Naive Bayes      0.705254  0.486919  0.711533  0.372989"
      ]
     },
     "execution_count": 89,
     "metadata": {},
     "output_type": "execute_result"
    }
   ],
   "source": [
    "score = pd.DataFrame([names, roc_auc_score, f1_score, precision_score, recall_score]).T\n",
    "score.columns = ['Algorithm', 'Roc_auc_score', 'F1_score', 'Precision', 'Recall']\n",
    "score"
   ]
  },
  {
   "cell_type": "code",
   "execution_count": 87,
   "metadata": {},
   "outputs": [
    {
     "name": "stdout",
     "output_type": "stream",
     "text": [
      "[[398 214]\n",
      " [ 29  91]]\n"
     ]
    }
   ],
   "source": [
    "#fit the best model\n",
    "logreg = LogisticRegression()\n",
    "logreg.fit(X,y)\n",
    "y_pred = logreg.predict(X_test)\n",
    "confusion_matrix(y_test, y_pred)\n",
    "print(confusion_matrix(y_test, y_pred))"
   ]
  },
  {
   "cell_type": "markdown",
   "metadata": {},
   "source": []
  },
  {
   "cell_type": "markdown",
   "metadata": {},
   "source": [
    "## Data quantity assessment"
   ]
  },
  {
   "cell_type": "code",
   "execution_count": 30,
   "metadata": {},
   "outputs": [],
   "source": [
    "def plot_learning_curve(estimator, title, X, y, ylim, cv, n_jobs=1, train_sizes=np.linspace(.1, 1.0, 10)):\n",
    "    plt.figure()\n",
    "    plt.title(title)\n",
    "    plt.xlabel(\"Training examples\")\n",
    "    plt.ylabel(\"Score\")\n",
    "    train_sizes, train_scores, test_scores = learning_curve(estimator, X, y, cv=cv, n_jobs=n_jobs, train_sizes=train_sizes)\n",
    "    train_scores_mean = np.mean(train_scores, axis=1)\n",
    "    train_scores_std = np.std(train_scores, axis=1)\n",
    "    test_scores_mean = np.mean(test_scores, axis=1)\n",
    "    test_scores_std = np.std(test_scores, axis=1)\n",
    "    plt.grid()\n",
    "    plt.fill_between(train_sizes, train_scores_mean - train_scores_std,\n",
    "                 train_scores_mean + train_scores_std, alpha=0.1,\n",
    "                 color=\"r\")\n",
    "    plt.fill_between(train_sizes, test_scores_mean - test_scores_std,\n",
    "                 test_scores_mean + test_scores_std, alpha=0.1, color=\"g\")\n",
    "    plt.plot(train_sizes, train_scores_mean, 'o-', color=\"r\",\n",
    "         label=\"Training score\")\n",
    "    plt.plot(train_sizes, test_scores_mean, 'o-', color=\"g\",\n",
    "         label=\"Cross-validation score\")\n",
    "    plt.legend(loc=\"best\")\n",
    "    return plt"
   ]
  },
  {
   "cell_type": "code",
   "execution_count": 31,
   "metadata": {},
   "outputs": [
    {
     "data": {
      "image/png": "[encoded data removed]",
      "text/plain": [
       "<Figure size 432x288 with 1 Axes>"
      ]
     },
     "metadata": {
      "needs_background": "light"
     },
     "output_type": "display_data"
    }
   ],
   "source": [
    "from sklearn.model_selection import ShuffleSplit\n",
    "title = \"Learning Curves (Logistic regression)\"\n",
    "# Cross validation with 100 iterations to get smoother mean test and train\n",
    "# score curves, each time with 20% data randomly selected as a validation set.\n",
    "cv = ShuffleSplit(n_splits=100, test_size=0.2, random_state=0)\n",
    "\n",
    "estimator = LogisticRegression(penalty = 'l1', C=1, solver='liblinear', random_state=1)\n",
    "plot_learning_curve(estimator, title, X_train, y_train, ylim=(0.8, 1),\n",
    "                    cv=cv, n_jobs=4)\n",
    "\n",
    "plt.show()"
   ]
  },
  {
   "cell_type": "markdown",
   "metadata": {},
   "source": [
    "The above plot shows that training and cross-validation scores are converging together which suggest that additional data will probably not imporove the model."
   ]
  },
  {
   "cell_type": "code",
   "execution_count": null,
   "metadata": {},
   "outputs": [],
   "source": []
  },
  {
   "cell_type": "code",
   "execution_count": null,
   "metadata": {},
   "outputs": [],
   "source": []
  }
 ],
 "metadata": {
  "kernelspec": {
   "display_name": "Python 3",
   "language": "python",
   "name": "python3"
  },
  "language_info": {
   "codemirror_mode": {
    "name": "ipython",
    "version": 3
   },
   "file_extension": ".py",
   "mimetype": "text/x-python",
   "name": "python",
   "nbconvert_exporter": "python",
   "pygments_lexer": "ipython3",
   "version": "3.8.5"
  }
 },
 "nbformat": 4,
 "nbformat_minor": 4
}
